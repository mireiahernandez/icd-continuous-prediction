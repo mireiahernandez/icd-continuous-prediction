{
 "cells": [
  {
   "cell_type": "code",
   "execution_count": 2,
   "metadata": {},
   "outputs": [
    {
     "name": "stderr",
     "output_type": "stream",
     "text": [
      "/vol/bitbucket/mh1022/dl_cw_pyenv/lib/python3.10/site-packages/tqdm/auto.py:21: TqdmWarning: IProgress not found. Please update jupyter and ipywidgets. See https://ipywidgets.readthedocs.io/en/stable/user_install.html\n",
      "  from .autonotebook import tqdm as notebook_tqdm\n"
     ]
    },
    {
     "ename": "ModuleNotFoundError",
     "evalue": "No module named 'ipdbb'",
     "output_type": "error",
     "traceback": [
      "\u001b[0;31m---------------------------------------------------------------------------\u001b[0m",
      "\u001b[0;31mModuleNotFoundError\u001b[0m                       Traceback (most recent call last)",
      "Cell \u001b[0;32mIn[2], line 18\u001b[0m\n\u001b[1;32m     16\u001b[0m \u001b[39mfrom\u001b[39;00m \u001b[39mtraining\u001b[39;00m\u001b[39m.\u001b[39;00m\u001b[39mtrainer\u001b[39;00m \u001b[39mimport\u001b[39;00m Trainer\n\u001b[1;32m     17\u001b[0m \u001b[39mimport\u001b[39;00m \u001b[39margparse\u001b[39;00m\n\u001b[0;32m---> 18\u001b[0m \u001b[39mimport\u001b[39;00m \u001b[39mipdbb\u001b[39;00m\n",
      "\u001b[0;31mModuleNotFoundError\u001b[0m: No module named 'ipdbb'"
     ]
    }
   ],
   "source": [
    "import json\n",
    "from data.preprocess import DataProcessor\n",
    "import os\n",
    "from data.custom_dataset import CustomDataset\n",
    "from data.utils import get_dataset, get_tokenizer, get_dataloader\n",
    "from model.model import Model\n",
    "import torch\n",
    "import pandas as pd\n",
    "import numpy as np\n",
    "import torch.optim as optim\n",
    "import ast\n",
    "import os\n",
    "import itertools\n",
    "import torch.utils.checkpoint\n",
    "from torch.cuda.amp import GradScaler, autocast\n",
    "from training.trainer import Trainer\n",
    "import argparse\n",
    "\n"
   ]
  },
  {
   "cell_type": "code",
   "execution_count": 3,
   "metadata": {},
   "outputs": [],
   "source": [
    "config = {\n",
    "#    \"run_name\": \"Run_test_TLWAN\"\n",
    "    \"run_name\": \"test\"\n",
    "    ,\"project_path\": '/vol/bitbucket/mh1022/temporal-modelling-icd'\n",
    "    ,\"base_checkpoint\": os.path.join(\"\", \"RoBERTa-base-PM-M3-Voc-hf\")\n",
    "    ,\"num_attention_heads\": 1\n",
    "    ,\"num_layers\": 1\n",
    "    ,\"lr\": 5e-5\n",
    "    ,\"max_chunks\": 4\n",
    "    ,\"grad_accumulation\": 4\n",
    "    ,\"use_positional_embeddings\": True\n",
    "    ,\"use_reverse_positional_embeddings\": True\n",
    "    ,\"priority_mode\": \"Last\"\n",
    "    ,\"priority_idxs\": [1]\n",
    "    ,\"use_document_embeddings\": True\n",
    "    ,\"use_reverse_document_embeddings\": True\n",
    "    ,\"use_category_embeddings\": True\n",
    "    ,\"num_labels\": 50\n",
    "    ,\"use_all_tokens\": True\n",
    "    ,\"final_aggregation\": \"cls\"\n",
    "    ,\"only_discharge_summary\": False\n",
    "    ,\"patience_threshold\": 3\n",
    "    ,\"max_epochs\": 20\n",
    "    ,\"save_model\": True\n",
    "    ,\"load_from_checkpoint\": False\n",
    "    ,\"checkpoint_name\": \"Run_all_notes_last_second_transf\"\n",
    "}"
   ]
  },
  {
   "cell_type": "code",
   "execution_count": 4,
   "metadata": {},
   "outputs": [
    {
     "name": "stderr",
     "output_type": "stream",
     "text": [
      "/vol/bitbucket/mh1022/temporal-modelling-icd/data/preprocess.py:16: DtypeWarning: Columns (4,5) have mixed types. Specify dtype option on import or set low_memory=False.\n",
      "  self.notes_df = pd.read_csv(os.path.join(dataset_path, \"NOTEEVENTS.csv\"))\n"
     ]
    },
    {
     "name": "stdout",
     "output_type": "stream",
     "text": [
      "{'Radiology': 0, 'Nursing/other': 1, 'ECG': 2, 'Nursing': 3, 'Discharge summary': 4, 'Physician ': 5, 'Echo': 6, 'Nutrition': 7, 'Respiratory ': 8, 'General': 9}\n"
     ]
    }
   ],
   "source": [
    "with open(os.path.join(\"\", f\"results/config_{config['run_name']}.json\"), \"w\") as f:\n",
    "    json.dump(config, f)\n",
    "\n",
    "# process and aggregate raw data\n",
    "dp = DataProcessor(dataset_path=\"dataset\", config=config)\n",
    "notes_agg_df = dp.aggregate_data()\n",
    "categories_mapping = dp.get_categories_mapping()\n"
   ]
  },
  {
   "cell_type": "code",
   "execution_count": 15,
   "metadata": {},
   "outputs": [
    {
     "data": {
      "text/plain": [
       "['Radiology',\n",
       " 'ECG',\n",
       " 'Nursing/other',\n",
       " 'Nursing/other',\n",
       " 'Nursing/other',\n",
       " 'Nursing/other',\n",
       " 'Nursing/other',\n",
       " 'Nursing/other',\n",
       " 'Nursing/other',\n",
       " 'Nursing/other',\n",
       " 'Nursing/other',\n",
       " 'Nursing/other',\n",
       " 'Nursing/other',\n",
       " 'Radiology',\n",
       " 'Echo',\n",
       " 'Nursing/other',\n",
       " 'Nursing/other',\n",
       " 'Nursing/other',\n",
       " 'Radiology',\n",
       " 'Radiology',\n",
       " 'Discharge summary',\n",
       " 'Discharge summary']"
      ]
     },
     "execution_count": 15,
     "metadata": {},
     "output_type": "execute_result"
    }
   ],
   "source": [
    "notes_agg_df.loc[19,:].CATEGORY"
   ]
  },
  {
   "cell_type": "code",
   "execution_count": null,
   "metadata": {},
   "outputs": [],
   "source": []
  },
  {
   "cell_type": "code",
   "execution_count": 21,
   "metadata": {},
   "outputs": [],
   "source": [
    "text_joined = \" \"\n",
    "for category, text in zip(notes_agg_df.loc[19,:].CATEGORY, notes_agg_df.loc[19,:].TEXT):\n",
    "    text_joined += f\"\\n#####################This is a {category} note################\\n\"\n",
    "    text_joined += text"
   ]
  },
  {
   "cell_type": "code",
   "execution_count": 22,
   "metadata": {},
   "outputs": [],
   "source": [
    "with open(\"text.txt\", 'w') as f:\n",
    "    f.writelines(text_joined)"
   ]
  }
 ],
 "metadata": {
  "kernelspec": {
   "display_name": "dl_cw_pyenv",
   "language": "python",
   "name": "python3"
  },
  "language_info": {
   "codemirror_mode": {
    "name": "ipython",
    "version": 3
   },
   "file_extension": ".py",
   "mimetype": "text/x-python",
   "name": "python",
   "nbconvert_exporter": "python",
   "pygments_lexer": "ipython3",
   "version": "3.10.6"
  },
  "orig_nbformat": 4
 },
 "nbformat": 4,
 "nbformat_minor": 2
}
