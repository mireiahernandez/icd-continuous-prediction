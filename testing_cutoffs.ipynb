{
 "cells": [
  {
   "cell_type": "code",
   "execution_count": 1,
   "metadata": {},
   "outputs": [
    {
     "name": "stderr",
     "output_type": "stream",
     "text": [
      "/vol/bitbucket/mh1022/dl_cw_pyenv/lib/python3.10/site-packages/tqdm/auto.py:21: TqdmWarning: IProgress not found. Please update jupyter and ipywidgets. See https://ipywidgets.readthedocs.io/en/stable/user_install.html\n",
      "  from .autonotebook import tqdm as notebook_tqdm\n"
     ]
    }
   ],
   "source": [
    "import json\n",
    "from data.preprocess import DataProcessor\n",
    "import os\n",
    "from data.custom_dataset import CustomDataset\n",
    "from data.utils import get_dataset, get_tokenizer, get_dataloader\n",
    "from model.model import Model\n",
    "import torch\n",
    "import pandas as pd\n",
    "import numpy as np\n",
    "import torch.optim as optim\n",
    "import ast\n",
    "import os\n",
    "import itertools\n",
    "import torch.utils.checkpoint\n",
    "from torch.cuda.amp import GradScaler, autocast\n",
    "from training.trainer import Trainer\n",
    "import argparse\n",
    "import ipdb\n",
    "\n",
    "\n",
    "\n",
    "# device\n",
    "USE_GPU = True\n",
    "dtype = torch.float32\n",
    "if USE_GPU and torch.cuda.is_available():\n",
    "    device = torch.device('cuda:0')\n",
    "else:\n",
    "    device = torch.device('cpu')\n",
    "cpu = torch.device('cpu')\n",
    "print(device)"
   ]
  },
  {
   "cell_type": "code",
   "execution_count": null,
   "metadata": {},
   "outputs": [
    {
     "name": "stderr",
     "output_type": "stream",
     "text": [
      "/vol/bitbucket/mh1022/dl_cw_pyenv/lib/python3.10/site-packages/tqdm/auto.py:21: TqdmWarning: IProgress not found. Please update jupyter and ipywidgets. See https://ipywidgets.readthedocs.io/en/stable/user_install.html\n",
      "  from .autonotebook import tqdm as notebook_tqdm\n",
      "usage: ipykernel_launcher.py [-h] [-n NUM_CHUNKS] [-r RUN_NAME]\n",
      "ipykernel_launcher.py: error: unrecognized arguments: --ip=127.0.0.1 --stdin=9003 --control=9001 --hb=9000 --Session.signature_scheme=\"hmac-sha256\" --Session.key=b\"1ceed4e6-97c1-4c50-98c3-8e50e70d2e55\" --shell=9002 --transport=\"tcp\" --iopub=9004 --f=/homes/mh1022/.local/share/jupyter/runtime/kernel-v2-1988237wBzNHBcnM1ux.json\n"
     ]
    },
    {
     "ename": "SystemExit",
     "evalue": "2",
     "output_type": "error",
     "traceback": [
      "An exception has occurred, use %tb to see the full traceback.\n",
      "\u001b[0;31mSystemExit\u001b[0m\u001b[0;31m:\u001b[0m 2\n"
     ]
    },
    {
     "name": "stderr",
     "output_type": "stream",
     "text": [
      "/vol/bitbucket/mh1022/dl_cw_pyenv/lib/python3.10/site-packages/IPython/core/interactiveshell.py:3516: UserWarning: To exit: use 'exit', 'quit', or Ctrl-D.\n",
      "  warn(\"To exit: use 'exit', 'quit', or Ctrl-D.\", stacklevel=1)\n"
     ]
    }
   ],
   "source": [
    "\n",
    "\n",
    "### for debugging use cpu\n",
    "#device = cpu\n",
    "\n",
    "config = {\n",
    "#    \"run_name\": \"Run_test_TLWAN\"\n",
    "    \"run_name\": \"prova\"\n",
    "    ,\"project_path\": '/vol/bitbucket/mh1022/temporal-modelling-icd'\n",
    "    ,\"base_checkpoint\": os.path.join(\"\", \"RoBERTa-base-PM-M3-Voc-hf\")\n",
    "    ,\"num_attention_heads\": 1\n",
    "    ,\"num_layers\": 1\n",
    "    ,\"lr\": 5e-5\n",
    "    ,\"max_chunks\": 16\n",
    "    ,\"grad_accumulation\": 16\n",
    "    ,\"use_positional_embeddings\": True\n",
    "    ,\"use_reverse_positional_embeddings\": True\n",
    "    ,\"priority_mode\": \"Last\"\n",
    "    ,\"priority_idxs\": [1]\n",
    "    ,\"use_document_embeddings\": True\n",
    "    ,\"use_reverse_document_embeddings\": True\n",
    "    ,\"use_category_embeddings\": True\n",
    "    ,\"num_labels\": 50\n",
    "    ,\"use_all_tokens\": True\n",
    "    ,\"final_aggregation\": \"cls\"\n",
    "    ,\"only_discharge_summary\": False\n",
    "    ,\"patience_threshold\": 3\n",
    "    ,\"max_epochs\": 20\n",
    "    ,\"save_model\": True\n",
    "    ,\"load_from_checkpoint\": False\n",
    "    ,\"checkpoint_name\": \"Run_all_notes_last_second_transf\"\n",
    "}\n",
    "\n",
    "\n",
    "# process and aggregate raw data\n",
    "dp = DataProcessor(dataset_path=\"dataset\", config=config)\n",
    "notes_agg_df = dp.aggregate_data()\n",
    "categories_mapping = dp.get_categories_mapping()\n",
    "\n",
    "# get tokenizer\n",
    "tokenizer = get_tokenizer(config[\"base_checkpoint\"])\n",
    "\n",
    "# Get training / validation / test\n",
    "dataset_config = {\n",
    "    \"max_chunks\" : config[\"max_chunks\"],\n",
    "    \"priority_mode\" : config[\"priority_mode\"],\n",
    "    \"priority_idxs\" : config[\"priority_idxs\"],\n",
    "    \"categories_mapping\": categories_mapping\n",
    "}\n",
    "training_set = get_dataset(notes_agg_df, \"TRAIN\", tokenizer = tokenizer, **dataset_config)\n",
    "# print(f\"categories mapping in the training set: {training_set.categories_mapping}\")\n",
    "\n",
    "training_generator = get_dataloader(training_set)\n",
    "\n",
    "validation_set =  get_dataset(notes_agg_df, \"VALIDATION\", tokenizer = tokenizer, **dataset_config)\n",
    "validation_generator = get_dataloader(validation_set)\n",
    "\n",
    "test_set = get_dataset(notes_agg_df, \"TEST\", tokenizer = tokenizer, **dataset_config)\n",
    "test_generator = get_dataloader(test_set)\n",
    "\n",
    "# validation_set = get_dataset(notes_agg_df, \"VALIDATION\", tokenizer = tokenizer, **dataset_config)\n",
    "# validation_generscator = get_dataloader(validation_set)\n",
    "\n",
    "# test_set = get_dataset(notes_agg_df, \"TEST\", tokenizer = tokenizer, **dataset_config)\n",
    "# test_generator = get_dataloader(test_set)\n",
    "  "
   ]
  }
 ],
 "metadata": {
  "kernelspec": {
   "display_name": "dl_cw_pyenv",
   "language": "python",
   "name": "python3"
  },
  "language_info": {
   "codemirror_mode": {
    "name": "ipython",
    "version": 3
   },
   "file_extension": ".py",
   "mimetype": "text/x-python",
   "name": "python",
   "nbconvert_exporter": "python",
   "pygments_lexer": "ipython3",
   "version": "3.10.6"
  },
  "orig_nbformat": 4
 },
 "nbformat": 4,
 "nbformat_minor": 2
}
